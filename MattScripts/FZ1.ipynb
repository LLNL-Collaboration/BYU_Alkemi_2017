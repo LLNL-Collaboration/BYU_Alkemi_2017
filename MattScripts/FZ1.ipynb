{
 "cells": [
  {
   "cell_type": "markdown",
   "metadata": {},
   "source": [
    "# Summary Statistics of Failed Zones"
   ]
  },
  {
   "cell_type": "code",
   "execution_count": 5,
   "metadata": {
    "collapsed": true
   },
   "outputs": [],
   "source": [
    "import numpy as np\n",
    "import pandas as pd\n",
    "from matplotlib import pyplot as plt\n",
    "%matplotlib inline\n",
    "import random"
   ]
  },
  {
   "cell_type": "code",
   "execution_count": 6,
   "metadata": {
    "collapsed": false
   },
   "outputs": [
    {
     "data": {
      "text/html": [
       "<div>\n",
       "<table border=\"1\" class=\"dataframe\">\n",
       "  <thead>\n",
       "    <tr style=\"text-align: right;\">\n",
       "      <th></th>\n",
       "      <th>volume</th>\n",
       "      <th>aspectRatio</th>\n",
       "      <th>conditionNumber</th>\n",
       "      <th>distortion</th>\n",
       "      <th>jacobian</th>\n",
       "      <th>largestAngle</th>\n",
       "      <th>oddy</th>\n",
       "      <th>scaledJacobian</th>\n",
       "      <th>shape</th>\n",
       "      <th>shapeAndSize</th>\n",
       "      <th>shear</th>\n",
       "      <th>shearAndSize</th>\n",
       "      <th>skew</th>\n",
       "      <th>smallestAngle</th>\n",
       "      <th>stretch</th>\n",
       "      <th>taper</th>\n",
       "    </tr>\n",
       "  </thead>\n",
       "  <tbody>\n",
       "    <tr>\n",
       "      <th>7541</th>\n",
       "      <td>0.003118</td>\n",
       "      <td>1.442320</td>\n",
       "      <td>5.000000e+29</td>\n",
       "      <td>-0.731749</td>\n",
       "      <td>-0.000162</td>\n",
       "      <td>182.202377</td>\n",
       "      <td>1796.145752</td>\n",
       "      <td>-0.038429</td>\n",
       "      <td>0.0</td>\n",
       "      <td>0.0</td>\n",
       "      <td>0.0</td>\n",
       "      <td>0.0</td>\n",
       "      <td>0.998571</td>\n",
       "      <td>2.028095</td>\n",
       "      <td>0.541373</td>\n",
       "      <td>0.087929</td>\n",
       "    </tr>\n",
       "    <tr>\n",
       "      <th>7542</th>\n",
       "      <td>0.003111</td>\n",
       "      <td>1.442651</td>\n",
       "      <td>5.000000e+29</td>\n",
       "      <td>-0.735430</td>\n",
       "      <td>-0.000163</td>\n",
       "      <td>182.210571</td>\n",
       "      <td>1810.514038</td>\n",
       "      <td>-0.038572</td>\n",
       "      <td>0.0</td>\n",
       "      <td>0.0</td>\n",
       "      <td>0.0</td>\n",
       "      <td>0.0</td>\n",
       "      <td>0.998579</td>\n",
       "      <td>2.020180</td>\n",
       "      <td>0.541294</td>\n",
       "      <td>0.087941</td>\n",
       "    </tr>\n",
       "    <tr>\n",
       "      <th>7543</th>\n",
       "      <td>0.003103</td>\n",
       "      <td>1.442980</td>\n",
       "      <td>5.000000e+29</td>\n",
       "      <td>-0.739046</td>\n",
       "      <td>-0.000164</td>\n",
       "      <td>182.218735</td>\n",
       "      <td>1825.015259</td>\n",
       "      <td>-0.038715</td>\n",
       "      <td>0.0</td>\n",
       "      <td>0.0</td>\n",
       "      <td>0.0</td>\n",
       "      <td>0.0</td>\n",
       "      <td>0.998586</td>\n",
       "      <td>2.012285</td>\n",
       "      <td>0.541214</td>\n",
       "      <td>0.087953</td>\n",
       "    </tr>\n",
       "  </tbody>\n",
       "</table>\n",
       "</div>"
      ],
      "text/plain": [
       "        volume  aspectRatio  conditionNumber  distortion  jacobian  \\\n",
       "7541  0.003118     1.442320     5.000000e+29   -0.731749 -0.000162   \n",
       "7542  0.003111     1.442651     5.000000e+29   -0.735430 -0.000163   \n",
       "7543  0.003103     1.442980     5.000000e+29   -0.739046 -0.000164   \n",
       "\n",
       "      largestAngle         oddy  scaledJacobian  shape  shapeAndSize  shear  \\\n",
       "7541    182.202377  1796.145752       -0.038429    0.0           0.0    0.0   \n",
       "7542    182.210571  1810.514038       -0.038572    0.0           0.0    0.0   \n",
       "7543    182.218735  1825.015259       -0.038715    0.0           0.0    0.0   \n",
       "\n",
       "      shearAndSize      skew  smallestAngle   stretch     taper  \n",
       "7541           0.0  0.998571       2.028095  0.541373  0.087929  \n",
       "7542           0.0  0.998579       2.020180  0.541294  0.087941  \n",
       "7543           0.0  0.998586       2.012285  0.541214  0.087953  "
      ]
     },
     "execution_count": 6,
     "metadata": {},
     "output_type": "execute_result"
    }
   ],
   "source": [
    "def my_read_file(num):\n",
    "    '''This function is for reading in the csv's and panda data frames\n",
    "    '''\n",
    "    filename = \"fail_data_\" + str(num) + \".csv\"\n",
    "    data = pd.read_csv(filename)\n",
    "    return data\n",
    "num = 98\n",
    "df = my_read_file(num)\n",
    "df.tail(3)"
   ]
  },
  {
   "cell_type": "markdown",
   "metadata": {},
   "source": [
    "Cycles after peak of oddy spike until failure for failed zones as a distribution"
   ]
  },
  {
   "cell_type": "code",
   "execution_count": 32,
   "metadata": {
    "collapsed": false
   },
   "outputs": [
    {
     "data": {
      "image/png": "[encoded data removed]",
      "text/plain": [
       "<matplotlib.figure.Figure at 0x2437e5242e8>"
      ]
     },
     "metadata": {},
     "output_type": "display_data"
    },
    {
     "name": "stdout",
     "output_type": "stream",
     "text": [
      "Number of Runs:  99\n",
      "Outlier Index:  [6, 35, 43, 44, 74, 75, 89]\n",
      "Outlier Values [720, 551, 673, 794, 521, 637, 987]\n",
      "Mean:  245.04040404\n",
      "Median  198.0\n",
      "Standard Deviation:  158.929113173\n",
      "Variance:  25258.463014\n"
     ]
    }
   ],
   "source": [
    "ttf= list()\n",
    "outliers = list()\n",
    "outlier_values = list()\n",
    "for i in range(0,99):\n",
    "    df = my_read_file(i)\n",
    "    ttf.append(df.shape[0] - df.oddy.idxmax())\n",
    "    if ttf[i] > 500:\n",
    "        outliers.append(i)\n",
    "        outlier_values.append(ttf[i])\n",
    "    \n",
    "\n",
    "plt.hist(ttf,bins = 25,color = 'skyblue')\n",
    "plt.hist(outlier_values,color = 'red')\n",
    "plt.axvline(ymin=0, ymax=25, x=np.mean(ttf), linewidth=2, color = 'blue',ls = 'dotted')\n",
    "plt.axvline(ymin=0, ymax=25, x=np.median(ttf), linewidth=2, color = 'red',ls = 'dotted')\n",
    "title = 'Distribution of Cycles until Failure'\n",
    "plt.title(title)\n",
    "plt.show()\n",
    "\n",
    "print('Number of Runs: ',len(ttf))\n",
    "print('Outlier Index: ',outliers)\n",
    "print(\"Outlier Values\",outlier_values)\n",
    "print('Mean: ',np.mean(ttf))\n",
    "print('Median ',np.median(ttf))\n",
    "print('Standard Deviation: ',np.array(ttf).std())\n",
    "print('Variance: ', np.array(ttf).var())"
   ]
  },
  {
   "cell_type": "code",
   "execution_count": null,
   "metadata": {
    "collapsed": false
   },
   "outputs": [],
   "source": []
  },
  {
   "cell_type": "code",
   "execution_count": null,
   "metadata": {
    "collapsed": true
   },
   "outputs": [],
   "source": []
  },
  {
   "cell_type": "code",
   "execution_count": null,
   "metadata": {
    "collapsed": true
   },
   "outputs": [],
   "source": []
  },
  {
   "cell_type": "code",
   "execution_count": null,
   "metadata": {
    "collapsed": true
   },
   "outputs": [],
   "source": [
    "\n"
   ]
  },
  {
   "cell_type": "markdown",
   "metadata": {},
   "source": [
    "### Everything below this point is just scratch code "
   ]
  },
  {
   "cell_type": "code",
   "execution_count": null,
   "metadata": {
    "collapsed": true
   },
   "outputs": [],
   "source": [
    "#Extract wanted summary statistics for each failed zone and store it in a dictionary\n",
    "spike_data = {}\n",
    "spike_data['min'] = min(data['oddy'])\n",
    "spike_data['max'] = max(data['oddy'])\n",
    "spike_data['magnitude'] = max(data['oddy']) - min(data['oddy'])\n",
    "spike_data['TTF'] = "
   ]
  },
  {
   "cell_type": "code",
   "execution_count": 102,
   "metadata": {
    "collapsed": false
   },
   "outputs": [
    {
     "data": {
      "text/plain": [
       "[261, 316, 253, 136, 229]"
      ]
     },
     "execution_count": 102,
     "metadata": {},
     "output_type": "execute_result"
    }
   ],
   "source": [
    "###SCRATCH CODE###\n",
    "ttf= list()\n",
    "for i in range(0,52):\n",
    "    df = my_read_file(i)\n",
    "    ttf.append(df.shape[0] - df.oddy.idxmax())\n",
    "ttf[:5]"
   ]
  },
  {
   "cell_type": "code",
   "execution_count": 22,
   "metadata": {
    "collapsed": false
   },
   "outputs": [
    {
     "data": {
      "image/png": "[encoded data removed]",
      "text/plain": [
       "<matplotlib.figure.Figure at 0x2437e6f84e0>"
      ]
     },
     "metadata": {},
     "output_type": "display_data"
    }
   ],
   "source": [
    "plt.hist(ttf,bins=20,histtype='step')\n",
    "plt.show()"
   ]
  },
  {
   "cell_type": "code",
   "execution_count": 101,
   "metadata": {
    "collapsed": false
   },
   "outputs": [
    {
     "name": "stdout",
     "output_type": "stream",
     "text": [
      "mean:  226.019230769\n",
      "median  150.0\n",
      "standard deviation  159.436446271\n",
      "variance 25419.9803994\n"
     ]
    }
   ],
   "source": []
  },
  {
   "cell_type": "code",
   "execution_count": 98,
   "metadata": {
    "collapsed": false
   },
   "outputs": [
    {
     "data": {
      "text/plain": [
       "list"
      ]
     },
     "execution_count": 98,
     "metadata": {},
     "output_type": "execute_result"
    }
   ],
   "source": [
    "type(ttf)"
   ]
  },
  {
   "cell_type": "code",
   "execution_count": 77,
   "metadata": {
    "collapsed": false
   },
   "outputs": [
    {
     "data": {
      "text/html": [
       "<div>\n",
       "<table border=\"1\" class=\"dataframe\">\n",
       "  <thead>\n",
       "    <tr style=\"text-align: right;\">\n",
       "      <th></th>\n",
       "      <th>Run</th>\n",
       "      <th>Cycle</th>\n",
       "      <th>Zone</th>\n",
       "    </tr>\n",
       "  </thead>\n",
       "  <tbody>\n",
       "    <tr>\n",
       "      <th>135</th>\n",
       "      <td>134</td>\n",
       "      <td>8054</td>\n",
       "      <td>980</td>\n",
       "    </tr>\n",
       "    <tr>\n",
       "      <th>136</th>\n",
       "      <td>135</td>\n",
       "      <td>7255</td>\n",
       "      <td>1017</td>\n",
       "    </tr>\n",
       "    <tr>\n",
       "      <th>137</th>\n",
       "      <td>136</td>\n",
       "      <td>7006</td>\n",
       "      <td>1004</td>\n",
       "    </tr>\n",
       "    <tr>\n",
       "      <th>138</th>\n",
       "      <td>137</td>\n",
       "      <td>7479</td>\n",
       "      <td>991</td>\n",
       "    </tr>\n",
       "    <tr>\n",
       "      <th>139</th>\n",
       "      <td>138</td>\n",
       "      <td>7243</td>\n",
       "      <td>979</td>\n",
       "    </tr>\n",
       "  </tbody>\n",
       "</table>\n",
       "</div>"
      ],
      "text/plain": [
       "     Run  Cycle  Zone\n",
       "135  134   8054   980\n",
       "136  135   7255  1017\n",
       "137  136   7006  1004\n",
       "138  137   7479   991\n",
       "139  138   7243   979"
      ]
     },
     "execution_count": 77,
     "metadata": {},
     "output_type": "execute_result"
    }
   ],
   "source": [
    "#reading in the ID specs for the failed zones\n",
    "fz = pd.read_table('failed_zones.txt',delimiter=',')\n",
    "fz.tail()"
   ]
  },
  {
   "cell_type": "code",
   "execution_count": 61,
   "metadata": {
    "collapsed": false
   },
   "outputs": [
    {
     "name": "stdout",
     "output_type": "stream",
     "text": [
      "(140, 3)\n",
      "6899\n"
     ]
    }
   ],
   "source": [
    "print(fz.shape)\n",
    "run = fz['Cycle'][0]\n",
    "print(run)"
   ]
  },
  {
   "cell_type": "code",
   "execution_count": 81,
   "metadata": {
    "collapsed": false
   },
   "outputs": [
    {
     "name": "stdout",
     "output_type": "stream",
     "text": [
      "136 7006 1004 (136, 7006, 1004)\n"
     ]
    }
   ],
   "source": [
    "i = 0\n",
    "j = 0\n",
    "fzl = list()\n",
    "for i in range(0,fz.shape[0]):\n",
    "        (run,cycle,zone) = (fz[fz.columns[0]][i],fz[fz.columns[1]][i],fz[fz.columns[2]][i])\n",
    "        fzl.append((run,cycle,zone))\n",
    "\n",
    "# print(fzl[:5],fzl[-5:])\n",
    "(run,cycle,zone) = fzl[137]\n",
    "print(run,cycle,zone,fzl[137])\n"
   ]
  },
  {
   "cell_type": "code",
   "execution_count": 20,
   "metadata": {
    "collapsed": false
   },
   "outputs": [
    {
     "name": "stdout",
     "output_type": "stream",
     "text": [
      "[1, 2, 3, 4, 5, 6, 7, 8, 9, 10, 11, 12]\n"
     ]
    },
    {
     "ename": "TypeError",
     "evalue": "list indices must be integers or slices, not list",
     "output_type": "error",
     "traceback": [
      "\u001b[1;31m---------------------------------------------------------------------------\u001b[0m",
      "\u001b[1;31mTypeError\u001b[0m                                 Traceback (most recent call last)",
      "\u001b[1;32m<ipython-input-20-ba5f020cab6d>\u001b[0m in \u001b[0;36m<module>\u001b[1;34m()\u001b[0m\n\u001b[0;32m      2\u001b[0m \u001b[0mblah\u001b[0m \u001b[1;33m=\u001b[0m \u001b[1;33m[\u001b[0m\u001b[1;36m1\u001b[0m\u001b[1;33m,\u001b[0m\u001b[1;36m2\u001b[0m\u001b[1;33m,\u001b[0m\u001b[1;36m3\u001b[0m\u001b[1;33m,\u001b[0m\u001b[1;36m4\u001b[0m\u001b[1;33m,\u001b[0m\u001b[1;36m5\u001b[0m\u001b[1;33m,\u001b[0m\u001b[1;36m6\u001b[0m\u001b[1;33m,\u001b[0m\u001b[1;36m7\u001b[0m\u001b[1;33m,\u001b[0m\u001b[1;36m8\u001b[0m\u001b[1;33m,\u001b[0m\u001b[1;36m9\u001b[0m\u001b[1;33m,\u001b[0m\u001b[1;36m10\u001b[0m\u001b[1;33m,\u001b[0m\u001b[1;36m11\u001b[0m\u001b[1;33m,\u001b[0m\u001b[1;36m12\u001b[0m\u001b[1;33m]\u001b[0m\u001b[1;33m\u001b[0m\u001b[0m\n\u001b[0;32m      3\u001b[0m \u001b[0mprint\u001b[0m\u001b[1;33m(\u001b[0m\u001b[0mblah\u001b[0m\u001b[1;33m)\u001b[0m\u001b[1;33m\u001b[0m\u001b[0m\n\u001b[1;32m----> 4\u001b[1;33m \u001b[1;32mdel\u001b[0m \u001b[0mblah\u001b[0m\u001b[1;33m[\u001b[0m\u001b[0moutliers\u001b[0m\u001b[1;33m]\u001b[0m\u001b[1;33m\u001b[0m\u001b[0m\n\u001b[0m\u001b[0;32m      5\u001b[0m \u001b[0mprint\u001b[0m\u001b[1;33m(\u001b[0m\u001b[0mblah\u001b[0m\u001b[1;33m)\u001b[0m\u001b[1;33m\u001b[0m\u001b[0m\n",
      "\u001b[1;31mTypeError\u001b[0m: list indices must be integers or slices, not list"
     ]
    }
   ],
   "source": [
    "#removing values from a list by index\n",
    "#pop,remove\n",
    "blah = [1,2,3,4,5,6,7,8,9,10,11,12]\n",
    "print(blah)\n",
    "del blah[]\n",
    "print(blah)"
   ]
  }
 ],
 "metadata": {
  "kernelspec": {
   "display_name": "Python 3",
   "language": "python",
   "name": "python3"
  },
  "language_info": {
   "codemirror_mode": {
    "name": "ipython",
    "version": 3
   },
   "file_extension": ".py",
   "mimetype": "text/x-python",
   "name": "python",
   "nbconvert_exporter": "python",
   "pygments_lexer": "ipython3",
   "version": "3.5.2"
  }
 },
 "nbformat": 4,
 "nbformat_minor": 0
}
